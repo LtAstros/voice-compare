{
 "cells": [
  {
   "cell_type": "markdown",
   "id": "cb37a140",
   "metadata": {},
   "source": [
    "# Speech-to-text similarity"
   ]
  },
  {
   "cell_type": "markdown",
   "id": "1c28fc41",
   "metadata": {},
   "source": [
    "## Idea\n",
    "Use a speech to text model to convert speech files into text files, then use a phonetic string comparison algorithm to compare them."
   ]
  },
  {
   "cell_type": "code",
   "execution_count": 2,
   "id": "25348772",
   "metadata": {},
   "outputs": [],
   "source": [
    "import speech_recognition as sr\n",
    "from difflib import SequenceMatcher"
   ]
  },
  {
   "cell_type": "code",
   "execution_count": 3,
   "id": "17724d73",
   "metadata": {},
   "outputs": [],
   "source": [
    "folder = \"audio-samples/\"\n",
    "current_sample = \"1688/1688-142285-0000.flac\"\n",
    "my_sample = \"1688/1688-142285-0000-vedanaudio.flac\"\n",
    "erroneous_sample = \"1688/1688-142285-0000-vedanaudiofuckup.flac\"\n",
    "HOUNDIFY_CLIENT_ID = \"Bvzc-zTsXIHu1Umkg9Y4Tg==\"  # Houndify client IDs are Base64-encoded strings\n",
    "HOUNDIFY_CLIENT_KEY = \"zEZ7Zw_CsNvCOkVlMaCpSk15CcUSL099_ep1z7naJzqWoe3smHn8tzu3UexwHm4k2AR0SC0QpQrX7qJAihjcgg==\"  # Houndify client keys are Base64-encoded strings"
   ]
  },
  {
   "cell_type": "code",
   "execution_count": 4,
   "id": "1025d0df",
   "metadata": {},
   "outputs": [],
   "source": [
    "def houndifySpeechToText(audio_file_path, houndify_client_id, houndify_client_key):\n",
    "    r = sr.Recognizer()\n",
    "    with sr.AudioFile(audio_file_path) as source:\n",
    "        audio = r.record(source)  # read the entire audio file\n",
    "    try:\n",
    "        return r.recognize_houndify(audio, client_id=HOUNDIFY_CLIENT_ID, client_key=HOUNDIFY_CLIENT_KEY)\n",
    "    except sr.UnknownValueError:\n",
    "        print(\"Houndify could not understand audio\")\n",
    "    except sr.RequestError as e:\n",
    "        print(\"Could not request results from Houndify service; {0}\".format(e))\n",
    "\n",
    "\n",
    "def similar(a, b):\n",
    "    return SequenceMatcher(None, a, b).ratio()"
   ]
  },
  {
   "cell_type": "code",
   "execution_count": 5,
   "id": "05b94340",
   "metadata": {},
   "outputs": [],
   "source": [
    "out = houndifySpeechToText(folder + current_sample, HOUNDIFY_CLIENT_ID, HOUNDIFY_CLIENT_KEY)"
   ]
  },
  {
   "cell_type": "code",
   "execution_count": 13,
   "id": "cc307b8d",
   "metadata": {},
   "outputs": [],
   "source": [
    "out2 = houndifySpeechToText(folder + my_sample, HOUNDIFY_CLIENT_ID, HOUNDIFY_CLIENT_KEY)"
   ]
  },
  {
   "cell_type": "code",
   "execution_count": 7,
   "id": "71eea865",
   "metadata": {},
   "outputs": [],
   "source": [
    "out3 = houndifySpeechToText(folder + erroneous_sample, HOUNDIFY_CLIENT_ID, HOUNDIFY_CLIENT_KEY)"
   ]
  },
  {
   "cell_type": "code",
   "execution_count": 14,
   "id": "766c60fd",
   "metadata": {},
   "outputs": [
    {
     "data": {
      "text/plain": [
       "0.8858131487889274"
      ]
     },
     "execution_count": 14,
     "metadata": {},
     "output_type": "execute_result"
    }
   ],
   "source": [
    "similar(out[0], out2[0])"
   ]
  },
  {
   "cell_type": "code",
   "execution_count": 15,
   "id": "653561e2",
   "metadata": {},
   "outputs": [
    {
     "data": {
      "text/plain": [
       "0.6619217081850534"
      ]
     },
     "execution_count": 15,
     "metadata": {},
     "output_type": "execute_result"
    }
   ],
   "source": [
    "similar(out[0], out3[0])"
   ]
  },
  {
   "cell_type": "code",
   "execution_count": 16,
   "id": "731d121e",
   "metadata": {},
   "outputs": [
    {
     "data": {
      "text/plain": [
       "\"there's iron they say in all our blood and a grain or two perhaps is good but his he makes me harshly feel has got a little too much of steel anon\""
      ]
     },
     "execution_count": 16,
     "metadata": {},
     "output_type": "execute_result"
    }
   ],
   "source": [
    "out[0]"
   ]
  },
  {
   "cell_type": "code",
   "execution_count": 17,
   "id": "7b34bd6f",
   "metadata": {},
   "outputs": [
    {
     "data": {
      "text/plain": [
       "\"there's iron they say and all i have blood and a grain or two perhaps as good as he makes me harshly feel as thought a little too much of steel\""
      ]
     },
     "execution_count": 17,
     "metadata": {},
     "output_type": "execute_result"
    }
   ],
   "source": [
    "out2[0]"
   ]
  },
  {
   "cell_type": "code",
   "execution_count": null,
   "id": "cb0f8a6e",
   "metadata": {},
   "outputs": [],
   "source": []
  }
 ],
 "metadata": {
  "kernelspec": {
   "display_name": "Python 3 (ipykernel)",
   "language": "python",
   "name": "python3"
  },
  "language_info": {
   "codemirror_mode": {
    "name": "ipython",
    "version": 3
   },
   "file_extension": ".py",
   "mimetype": "text/x-python",
   "name": "python",
   "nbconvert_exporter": "python",
   "pygments_lexer": "ipython3",
   "version": "3.10.7"
  }
 },
 "nbformat": 4,
 "nbformat_minor": 5
}
